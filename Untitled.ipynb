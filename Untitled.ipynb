{
 "cells": [
  {
   "cell_type": "code",
   "execution_count": 1,
   "id": "359c7d30",
   "metadata": {},
   "outputs": [
    {
     "name": "stdout",
     "output_type": "stream",
     "text": [
      "Collecting tensorflowjs\n",
      "  Downloading tensorflowjs-4.1.0-py3-none-any.whl (84 kB)\n",
      "     ---------------------------------------- 84.2/84.2 kB 1.2 MB/s eta 0:00:00\n",
      "Collecting tensorflow-hub<0.13,>=0.7.0"
     ]
    },
    {
     "name": "stderr",
     "output_type": "stream",
     "text": [
      "WARNING: Ignoring invalid distribution -pencv-python (c:\\users\\rohith\\appdata\\local\\programs\\python\\python310\\lib\\site-packages)\n",
      "WARNING: Ignoring invalid distribution -illow (c:\\users\\rohith\\appdata\\local\\programs\\python\\python310\\lib\\site-packages)\n",
      "WARNING: Ignoring invalid distribution -pencv-python (c:\\users\\rohith\\appdata\\local\\programs\\python\\python310\\lib\\site-packages)\n",
      "WARNING: Ignoring invalid distribution -illow (c:\\users\\rohith\\appdata\\local\\programs\\python\\python310\\lib\\site-packages)\n",
      "ERROR: Exception:\n",
      "Traceback (most recent call last):\n",
      "  File \"C:\\Users\\Rohith\\AppData\\Local\\Programs\\Python\\Python310\\lib\\site-packages\\pip\\_vendor\\urllib3\\response.py\", line 437, in _error_catcher\n",
      "    yield\n",
      "  File \"C:\\Users\\Rohith\\AppData\\Local\\Programs\\Python\\Python310\\lib\\site-packages\\pip\\_vendor\\urllib3\\response.py\", line 560, in read\n",
      "    data = self._fp_read(amt) if not fp_closed else b\"\"\n",
      "  File \"C:\\Users\\Rohith\\AppData\\Local\\Programs\\Python\\Python310\\lib\\site-packages\\pip\\_vendor\\urllib3\\response.py\", line 526, in _fp_read\n",
      "    return self._fp.read(amt) if amt is not None else self._fp.read()\n",
      "  File \"C:\\Users\\Rohith\\AppData\\Local\\Programs\\Python\\Python310\\lib\\site-packages\\pip\\_vendor\\cachecontrol\\filewrapper.py\", line 90, in read\n",
      "    data = self.__fp.read(amt)\n",
      "  File \"C:\\Users\\Rohith\\AppData\\Local\\Programs\\Python\\Python310\\lib\\http\\client.py\", line 465, in read\n",
      "    s = self.fp.read(amt)"
     ]
    },
    {
     "name": "stdout",
     "output_type": "stream",
     "text": [
      "\n",
      "  Using cached tensorflow_hub-0.12.0-py2.py3-none-any.whl (108 kB)\n",
      "Requirement already satisfied: protobuf<3.20,>=3.9.2 in c:\\users\\rohith\\appdata\\local\\programs\\python\\python310\\lib\\site-packages (from tensorflowjs) (3.19.6)\n",
      "Collecting packaging~=20.9\n",
      "  Using cached packaging-20.9-py2.py3-none-any.whl (40 kB)\n",
      "Requirement already satisfied: tensorflow<3,>=2.10.0 in c:\\users\\rohith\\appdata\\local\\programs\\python\\python310\\lib\\site-packages (from tensorflowjs) (2.10.0)\n",
      "Collecting tensorflowjs\n",
      "  Using cached tensorflowjs-4.0.0-py3-none-any.whl (83 kB)\n",
      "  Using cached tensorflowjs-3.21.0-py3-none-any.whl (81 kB)\n",
      "Collecting flax>=0.5.3\n",
      "  Using cached flax-0.6.2-py3-none-any.whl (189 kB)\n",
      "Requirement already satisfied: six<2,>=1.12.0 in c:\\users\\rohith\\appdata\\local\\programs\\python\\python310\\lib\\site-packages (from tensorflowjs) (1.16.0)\n",
      "Collecting importlib_resources>=5.9.0\n",
      "  Using cached importlib_resources-5.10.0-py3-none-any.whl (34 kB)\n",
      "Collecting jax>=0.3.16\n",
      "  Using cached jax-0.3.25.tar.gz (1.1 MB)\n",
      "  Preparing metadata (setup.py): started\n",
      "  Preparing metadata (setup.py): finished with status 'done'\n",
      "Collecting optax\n",
      "  Downloading optax-0.1.4-py3-none-any.whl (154 kB)\n",
      "     -------------------------------------- 154.9/154.9 kB 4.7 MB/s eta 0:00:00\n",
      "Collecting rich>=11.1\n",
      "  Using cached rich-12.6.0-py3-none-any.whl (237 kB)\n",
      "Collecting tensorstore\n",
      "  Using cached tensorstore-0.1.28-cp310-cp310-win_amd64.whl (6.5 MB)\n",
      "Requirement already satisfied: numpy>=1.12 in c:\\users\\rohith\\appdata\\local\\programs\\python\\python310\\lib\\site-packages (from flax>=0.5.3->tensorflowjs) (1.23.4)\n",
      "Requirement already satisfied: PyYAML>=5.4.1 in c:\\users\\rohith\\appdata\\local\\programs\\python\\python310\\lib\\site-packages (from flax>=0.5.3->tensorflowjs) (5.4.1)\n",
      "Collecting msgpack\n",
      "  Using cached msgpack-1.0.4-cp310-cp310-win_amd64.whl (61 kB)\n",
      "Requirement already satisfied: typing-extensions>=4.1.1 in c:\\users\\rohith\\appdata\\local\\programs\\python\\python310\\lib\\site-packages (from flax>=0.5.3->tensorflowjs) (4.1.1)\n",
      "Requirement already satisfied: matplotlib in c:\\users\\rohith\\appdata\\local\\programs\\python\\python310\\lib\\site-packages (from flax>=0.5.3->tensorflowjs) (3.6.0)\n",
      "Requirement already satisfied: opt_einsum in c:\\users\\rohith\\appdata\\local\\programs\\python\\python310\\lib\\site-packages (from jax>=0.3.16->tensorflowjs) (3.3.0)\n",
      "Requirement already satisfied: scipy>=1.5 in c:\\users\\rohith\\appdata\\local\\programs\\python\\python310\\lib\\site-packages (from jax>=0.3.16->tensorflowjs) (1.9.1)\n",
      "Requirement already satisfied: pyparsing>=2.0.2 in c:\\users\\rohith\\appdata\\local\\programs\\python\\python310\\lib\\site-packages (from packaging~=20.9->tensorflowjs) (2.4.7)\n",
      "Requirement already satisfied: astunparse>=1.6.0 in c:\\users\\rohith\\appdata\\local\\programs\\python\\python310\\lib\\site-packages (from tensorflow<3,>=2.10.0->tensorflowjs) (1.6.3)\n",
      "Requirement already satisfied: grpcio<2.0,>=1.24.3 in c:\\users\\rohith\\appdata\\local\\programs\\python\\python310\\lib\\site-packages (from tensorflow<3,>=2.10.0->tensorflowjs) (1.46.3)\n",
      "Requirement already satisfied: gast<=0.4.0,>=0.2.1 in c:\\users\\rohith\\appdata\\local\\programs\\python\\python310\\lib\\site-packages (from tensorflow<3,>=2.10.0->tensorflowjs) (0.4.0)\n",
      "Requirement already satisfied: tensorflow-estimator<2.11,>=2.10.0 in c:\\users\\rohith\\appdata\\local\\programs\\python\\python310\\lib\\site-packages (from tensorflow<3,>=2.10.0->tensorflowjs) (2.10.0)\n",
      "Requirement already satisfied: tensorflow-io-gcs-filesystem>=0.23.1 in c:\\users\\rohith\\appdata\\local\\programs\\python\\python310\\lib\\site-packages (from tensorflow<3,>=2.10.0->tensorflowjs) (0.27.0)\n",
      "Requirement already satisfied: flatbuffers>=2.0 in c:\\users\\rohith\\appdata\\local\\programs\\python\\python310\\lib\\site-packages (from tensorflow<3,>=2.10.0->tensorflowjs) (22.9.24)\n",
      "Requirement already satisfied: libclang>=13.0.0 in c:\\users\\rohith\\appdata\\local\\programs\\python\\python310\\lib\\site-packages (from tensorflow<3,>=2.10.0->tensorflowjs) (14.0.6)\n",
      "Requirement already satisfied: google-pasta>=0.1.1 in c:\\users\\rohith\\appdata\\local\\programs\\python\\python310\\lib\\site-packages (from tensorflow<3,>=2.10.0->tensorflowjs) (0.2.0)\n",
      "Requirement already satisfied: keras<2.11,>=2.10.0 in c:\\users\\rohith\\appdata\\local\\programs\\python\\python310\\lib\\site-packages (from tensorflow<3,>=2.10.0->tensorflowjs) (2.10.0)\n",
      "Requirement already satisfied: h5py>=2.9.0 in c:\\users\\rohith\\appdata\\local\\programs\\python\\python310\\lib\\site-packages (from tensorflow<3,>=2.10.0->tensorflowjs) (3.7.0)\n",
      "Requirement already satisfied: wrapt>=1.11.0 in c:\\users\\rohith\\appdata\\local\\programs\\python\\python310\\lib\\site-packages (from tensorflow<3,>=2.10.0->tensorflowjs) (1.14.1)\n",
      "Requirement already satisfied: absl-py>=1.0.0 in c:\\users\\rohith\\appdata\\local\\programs\\python\\python310\\lib\\site-packages (from tensorflow<3,>=2.10.0->tensorflowjs) (1.2.0)\n",
      "Requirement already satisfied: termcolor>=1.1.0 in c:\\users\\rohith\\appdata\\local\\programs\\python\\python310\\lib\\site-packages (from tensorflow<3,>=2.10.0->tensorflowjs) (2.0.1)\n",
      "Requirement already satisfied: tensorboard<2.11,>=2.10 in c:\\users\\rohith\\appdata\\local\\programs\\python\\python310\\lib\\site-packages (from tensorflow<3,>=2.10.0->tensorflowjs) (2.10.1)\n",
      "Requirement already satisfied: keras-preprocessing>=1.1.1 in c:\\users\\rohith\\appdata\\local\\programs\\python\\python310\\lib\\site-packages (from tensorflow<3,>=2.10.0->tensorflowjs) (1.1.2)\n",
      "Requirement already satisfied: setuptools in c:\\users\\rohith\\appdata\\local\\programs\\python\\python310\\lib\\site-packages (from tensorflow<3,>=2.10.0->tensorflowjs) (58.1.0)\n",
      "Requirement already satisfied: wheel<1.0,>=0.23.0 in c:\\users\\rohith\\appdata\\local\\programs\\python\\python310\\lib\\site-packages (from astunparse>=1.6.0->tensorflow<3,>=2.10.0->tensorflowjs) (0.37.1)\n",
      "Requirement already satisfied: pygments<3.0.0,>=2.6.0 in c:\\users\\rohith\\appdata\\local\\programs\\python\\python310\\lib\\site-packages (from rich>=11.1->flax>=0.5.3->tensorflowjs) (2.11.2)\n",
      "Collecting commonmark<0.10.0,>=0.9.0\n",
      "  Using cached commonmark-0.9.1-py2.py3-none-any.whl (51 kB)\n",
      "Requirement already satisfied: google-auth<3,>=1.6.3 in c:\\users\\rohith\\appdata\\local\\programs\\python\\python310\\lib\\site-packages (from tensorboard<2.11,>=2.10->tensorflow<3,>=2.10.0->tensorflowjs) (2.8.0)\n",
      "Requirement already satisfied: tensorboard-data-server<0.7.0,>=0.6.0 in c:\\users\\rohith\\appdata\\local\\programs\\python\\python310\\lib\\site-packages (from tensorboard<2.11,>=2.10->tensorflow<3,>=2.10.0->tensorflowjs) (0.6.1)\n",
      "Requirement already satisfied: tensorboard-plugin-wit>=1.6.0 in c:\\users\\rohith\\appdata\\local\\programs\\python\\python310\\lib\\site-packages (from tensorboard<2.11,>=2.10->tensorflow<3,>=2.10.0->tensorflowjs) (1.8.1)\n",
      "Requirement already satisfied: requests<3,>=2.21.0 in c:\\users\\rohith\\appdata\\local\\programs\\python\\python310\\lib\\site-packages (from tensorboard<2.11,>=2.10->tensorflow<3,>=2.10.0->tensorflowjs) (2.28.1)\n",
      "Requirement already satisfied: google-auth-oauthlib<0.5,>=0.4.1 in c:\\users\\rohith\\appdata\\local\\programs\\python\\python310\\lib\\site-packages (from tensorboard<2.11,>=2.10->tensorflow<3,>=2.10.0->tensorflowjs) (0.4.6)\n",
      "Requirement already satisfied: markdown>=2.6.8 in c:\\users\\rohith\\appdata\\local\\programs\\python\\python310\\lib\\site-packages (from tensorboard<2.11,>=2.10->tensorflow<3,>=2.10.0->tensorflowjs) (3.4.1)\n",
      "Requirement already satisfied: werkzeug>=1.0.1 in c:\\users\\rohith\\appdata\\local\\programs\\python\\python310\\lib\\site-packages (from tensorboard<2.11,>=2.10->tensorflow<3,>=2.10.0->tensorflowjs) (2.0.2)\n",
      "Requirement already satisfied: kiwisolver>=1.0.1 in c:\\users\\rohith\\appdata\\local\\programs\\python\\python310\\lib\\site-packages (from matplotlib->flax>=0.5.3->tensorflowjs) (1.3.1)\n",
      "Requirement already satisfied: cycler>=0.10 in c:\\users\\rohith\\appdata\\local\\programs\\python\\python310\\lib\\site-packages (from matplotlib->flax>=0.5.3->tensorflowjs) (0.10.0)\n",
      "Requirement already satisfied: pillow>=6.2.0 in c:\\users\\rohith\\appdata\\local\\programs\\python\\python310\\lib\\site-packages (from matplotlib->flax>=0.5.3->tensorflowjs) (9.2.0)\n",
      "Requirement already satisfied: fonttools>=4.22.0 in c:\\users\\rohith\\appdata\\local\\programs\\python\\python310\\lib\\site-packages (from matplotlib->flax>=0.5.3->tensorflowjs) (4.33.3)\n",
      "Requirement already satisfied: python-dateutil>=2.7 in c:\\users\\rohith\\appdata\\local\\programs\\python\\python310\\lib\\site-packages (from matplotlib->flax>=0.5.3->tensorflowjs) (2.8.2)\n",
      "Requirement already satisfied: contourpy>=1.0.1 in c:\\users\\rohith\\appdata\\local\\programs\\python\\python310\\lib\\site-packages (from matplotlib->flax>=0.5.3->tensorflowjs) (1.0.5)\n",
      "Collecting chex>=0.1.5\n",
      "  Using cached chex-0.1.5-py3-none-any.whl (85 kB)\n",
      "Collecting optax\n",
      "  Using cached optax-0.1.3-py3-none-any.whl (145 kB)\n",
      "  Using cached optax-0.1.2-py3-none-any.whl (140 kB)\n",
      "  Using cached optax-0.1.1-py3-none-any.whl (136 kB)\n",
      "  Using cached optax-0.1.0-py3-none-any.whl (126 kB)\n",
      "  Using cached optax-0.0.91-py3-none-any.whl (126 kB)\n",
      "  Using cached optax-0.0.9-py3-none-any.whl (118 kB)\n",
      "  Using cached optax-0.0.8-py3-none-any.whl (113 kB)"
     ]
    },
    {
     "name": "stderr",
     "output_type": "stream",
     "text": [
      "\n",
      "  File \"C:\\Users\\Rohith\\AppData\\Local\\Programs\\Python\\Python310\\lib\\socket.py\", line 705, in readinto\n",
      "    return self._sock.recv_into(b)\n",
      "  File \"C:\\Users\\Rohith\\AppData\\Local\\Programs\\Python\\Python310\\lib\\ssl.py\", line 1273, in recv_into\n",
      "    return self.read(nbytes, buffer)\n",
      "  File \"C:\\Users\\Rohith\\AppData\\Local\\Programs\\Python\\Python310\\lib\\ssl.py\", line 1129, in read\n",
      "    return self._sslobj.read(len, buffer)\n",
      "TimeoutError: The read operation timed out\n",
      "\n",
      "During handling of the above exception, another exception occurred:\n",
      "\n",
      "Traceback (most recent call last):\n",
      "  File \"C:\\Users\\Rohith\\AppData\\Local\\Programs\\Python\\Python310\\lib\\site-packages\\pip\\_internal\\cli\\base_command.py\", line 160, in exc_logging_wrapper\n",
      "    status = run_func(*args)\n",
      "  File \"C:\\Users\\Rohith\\AppData\\Local\\Programs\\Python\\Python310\\lib\\site-packages\\pip\\_internal\\cli\\req_command.py\", line 247, in wrapper\n"
     ]
    }
   ],
   "source": [
    "!pip install tensorflowjs"
   ]
  },
  {
   "cell_type": "code",
   "execution_count": null,
   "id": "1bc42863",
   "metadata": {},
   "outputs": [],
   "source": []
  }
 ],
 "metadata": {
  "kernelspec": {
   "display_name": "Python 3 (ipykernel)",
   "language": "python",
   "name": "python3"
  },
  "language_info": {
   "codemirror_mode": {
    "name": "ipython",
    "version": 3
   },
   "file_extension": ".py",
   "mimetype": "text/x-python",
   "name": "python",
   "nbconvert_exporter": "python",
   "pygments_lexer": "ipython3",
   "version": "3.10.4"
  }
 },
 "nbformat": 4,
 "nbformat_minor": 5
}
